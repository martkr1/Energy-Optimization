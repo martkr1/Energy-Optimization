{
 "cells": [
  {
   "cell_type": "code",
   "execution_count": 1,
   "metadata": {},
   "outputs": [],
   "source": [
    "## Import packages\n",
    "\n",
    "#Kspice\n",
    "import sys\n",
    "sys.path.append(r\"C:\\Program Files (x86)\\Kongsberg\\K-Spice\\bin64\") #add to path to allow kspice import\n",
    "import kspice # if import error, check correct python version (3.11)\n",
    "\n",
    "#Basic functionality\n",
    "import pandas as pd\n",
    "import numpy as np\n",
    "import matplotlib.pyplot as plt\n",
    "\n",
    "#ML\n",
    "import torch "
   ]
  },
  {
   "cell_type": "code",
   "execution_count": 2,
   "metadata": {},
   "outputs": [],
   "source": [
    "#Initialize simulator\n",
    "\n",
    "project_path = r\"C:\\Appl\\K-Spice-Projects\\Kristin_v23\" #Specify path to downloaded project.\n",
    "_ = kspice.Simulator(project_path) #Create instance of project"
   ]
  },
  {
   "cell_type": "code",
   "execution_count": 3,
   "metadata": {},
   "outputs": [],
   "source": [
    "#Disable power and wells - not API functionality"
   ]
  },
  {
   "cell_type": "code",
   "execution_count": 4,
   "metadata": {},
   "outputs": [],
   "source": [
    "timeline = _.activate_timeline(\"Engineering\") # Select the avaliable engineering timeline\n",
    "app = \"Topside\" # We only make changes to the topside module NOTE: From software we can #deactivate Wells and Power in ESS model, can this be done from python? (If it increases speed)\n",
    "timeline.initialize() #"
   ]
  },
  {
   "cell_type": "code",
   "execution_count": 5,
   "metadata": {},
   "outputs": [],
   "source": [
    "#Load Kristin model, parameters and initial conditions\n",
    "\n",
    "timeline.load_model(\"KristinMaria_master_disabledPowerWells\") #Load model\n",
    "timeline.load_parameters(\"KristinMaria_master_disabledPowerWells\") # load fixed parameters\n",
    "timeline.load_initial_condition(\"KristinMaria_master_disabledPowerWells\") # Load initial conditions"
   ]
  },
  {
   "cell_type": "code",
   "execution_count": 8,
   "metadata": {},
   "outputs": [],
   "source": [
    "#import sys\n",
    "#del sys.modules['enviroment'] #to delete package memory - loading updates of Sim class\n",
    "from enviroment import Sim\n",
    "\n",
    "env = Sim(timeline, app) # Create env instance\n",
    "env.import_variables(\"xlsx/xl_tester1.xlsx\") #Import variables of interest"
   ]
  },
  {
   "cell_type": "code",
   "execution_count": 9,
   "metadata": {},
   "outputs": [
    {
     "name": "stdout",
     "output_type": "stream",
     "text": [
      "S27FQIC4011:Value ✓\n",
      "S23KA001c:Power ✓\n",
      "S23KA002c:Power ✓\n",
      "S23KA003c:Power ✓\n"
     ]
    }
   ],
   "source": [
    "env.check_df(\"Global KPI\") #Check random column in dataframe. i.e. correct labeling in correspondance to simulator"
   ]
  },
  {
   "cell_type": "code",
   "execution_count": 10,
   "metadata": {},
   "outputs": [],
   "source": [
    "env.timeline.set_speed(10) #Set speed of simulator, this value is what we wish for not necesarly what we get\n",
    "env.timeline.run()"
   ]
  },
  {
   "cell_type": "code",
   "execution_count": 11,
   "metadata": {},
   "outputs": [
    {
     "data": {
      "text/plain": [
       "4.7252615590261415"
      ]
     },
     "execution_count": 11,
     "metadata": {},
     "output_type": "execute_result"
    }
   ],
   "source": [
    "env.timeline.achieved_speed #Here you can see actual speed"
   ]
  },
  {
   "cell_type": "code",
   "execution_count": 12,
   "metadata": {},
   "outputs": [],
   "source": [
    "state = env.reset() # We reset the process simulator by pausing it and again fetching the initial conditions"
   ]
  },
  {
   "cell_type": "code",
   "execution_count": 13,
   "metadata": {},
   "outputs": [],
   "source": [
    "#For the future we want the state at a specific form \n",
    "import itertools\n",
    "state_flat = np.array(list(itertools.chain.from_iterable(state)))\n",
    "state_tensor = torch.tensor(state_flat, dtype=torch.float32) # make torch tensor"
   ]
  },
  {
   "cell_type": "code",
   "execution_count": 14,
   "metadata": {},
   "outputs": [
    {
     "name": "stdout",
     "output_type": "stream",
     "text": [
      "tensor([1., 1., 1., 2., 0., 0., 2., 0., 2., 0.]) torch.Size([10])\n"
     ]
    }
   ],
   "source": [
    "steps_done = 0\n",
    "action = torch.tensor(env.sample(\"action\"), dtype=torch.float32) # select action (up, down, stay) for each controller by a factor of 1.\n",
    "print(action, action.shape)"
   ]
  },
  {
   "cell_type": "code",
   "execution_count": null,
   "metadata": {},
   "outputs": [
    {
     "name": "stdout",
     "output_type": "stream",
     "text": [
      "S23LT1006 has reached its setpoint 44.97753579549194 [%], prog.list: [0, 2, 3, 4, 5, 6, 7, 8, 9] \n",
      "\n",
      "S23LT1066 has reached its setpoint 42.173556574557665 [%], prog.list: [0, 2, 3, 4, 6, 7, 8, 9] \n",
      "\n",
      "S23FIT1014 has reached its setpoint 12.995376914018834 [m3/h], prog.list: [0, 2, 3, 4, 7, 8, 9] \n",
      "\n",
      "S23FIT1107 has reached its setpoint 30.010019343898996 [m3/h], prog.list: [0, 2, 3, 4, 7, 9] \n",
      "\n",
      "S23TT1004 has reached its setpoint 29.98548261528657 [C], prog.list: [2, 3, 4, 7, 9] \n",
      "\n",
      "S23TT1034 has reached its setpoint 29.994326102701848 [C], prog.list: [3, 4, 7, 9] \n",
      "\n"
     ]
    }
   ],
   "source": [
    "observation, reward, terminated, truncated = env.step(action) # Add changes to model and use a polling function to check for updates, timeout currently as 5 min to reach new setpoint with arg: 0.1 precision"
   ]
  },
  {
   "cell_type": "code",
   "execution_count": 56,
   "metadata": {},
   "outputs": [],
   "source": [
    "env.timeline.pause() # Pause simulator"
   ]
  }
 ],
 "metadata": {
  "kernelspec": {
   "display_name": "Python 3",
   "language": "python",
   "name": "python3"
  },
  "language_info": {
   "codemirror_mode": {
    "name": "ipython",
    "version": 3
   },
   "file_extension": ".py",
   "mimetype": "text/x-python",
   "name": "python",
   "nbconvert_exporter": "python",
   "pygments_lexer": "ipython3",
   "version": "3.11.9"
  }
 },
 "nbformat": 4,
 "nbformat_minor": 2
}
