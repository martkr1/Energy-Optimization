{
 "cells": [
  {
   "cell_type": "markdown",
   "metadata": {},
   "source": [
    "Final goal -> being able to choose setpoints which result in lower energy consumption but without the dropping production\n",
    "\n",
    "We need to devide up the task, starting with one controller we allow the model to make one of three moves defined as \n",
    "\n",
    "### ACTIONS: \n",
    "(step up, step down, stay) \n",
    "\n",
    "by a predefined increment. (We can add increment size later. )\n",
    "\n",
    "The action should be a responce of the current state of the model (model is here the k-spice simulator) which is described through a set of \n",
    "\n",
    "### Observations: \n",
    "Input - This is obvious, the parameter we intend to change.\n",
    "\n",
    "Our ultimate goal is to learn a desirable policy between (state, action) pairs and to achieve this we need to reward good actions and punish bad actions. Hence, we construct a reward consisting of \n",
    "\n",
    "### Reward(Energy consumption)\n",
    "\n",
    "and we define a set of breakpoints which implies the end of an episode, i.e. after an action if this occurs - reset and try again. \n",
    "\n",
    "### Breakpoints: \n",
    "Alarmlimits reached \n",
    "Time out - did not reach all the setpoints in a predefined timelimit\n",
    "\n"
   ]
  },
  {
   "cell_type": "code",
   "execution_count": 1,
   "metadata": {},
   "outputs": [],
   "source": [
    "#Kspice\n",
    "import sys\n",
    "sys.path.append(r\"C:\\Program Files (x86)\\Kongsberg\\K-Spice\\bin64\") #add to path to allow kspice import\n",
    "import kspice # if import error, check correct python version (3.11)\n",
    "\n",
    "#Basic functionality\n",
    "import pandas as pd\n",
    "import numpy as np\n",
    "import matplotlib.pyplot as plt\n",
    "\n",
    "#ML\n",
    "import torch \n",
    "\n",
    "from enviroment import Sim\n",
    "from DQN import DQN"
   ]
  },
  {
   "cell_type": "code",
   "execution_count": 2,
   "metadata": {},
   "outputs": [],
   "source": [
    "project_path = r\"C:\\Appl\\K-Spice-Projects\\Kristin_v23\" #Specify path to downloaded project.\n",
    "_ = kspice.Simulator(project_path) #Create instance of project"
   ]
  },
  {
   "cell_type": "code",
   "execution_count": 3,
   "metadata": {},
   "outputs": [],
   "source": [
    "#This cell should contain the disabling of the power and wells modules - functionality not found in python API"
   ]
  },
  {
   "cell_type": "code",
   "execution_count": 3,
   "metadata": {},
   "outputs": [],
   "source": [
    "timeline = _.activate_timeline(\"Engineering\") # Select the avaliable engineering timeline\n",
    "app = \"Topside\" # We only make changes to the topside module NOTE: From software we can #deactivate Wells and Power in ESS model, can this be done from python? (If it increases speed)\n",
    "timeline.initialize() #"
   ]
  },
  {
   "cell_type": "code",
   "execution_count": 4,
   "metadata": {},
   "outputs": [],
   "source": [
    "timeline.load_model(\"KristinMaria_master_disabledPowerWells\") #Load model\n",
    "timeline.load_parameters(\"KristinMaria_master_disabledPowerWells\") # load fixed parameters\n",
    "timeline.load_initial_condition(\"KristinMaria_master_disabledPowerWells\") # Load initial conditions"
   ]
  },
  {
   "cell_type": "code",
   "execution_count": 5,
   "metadata": {},
   "outputs": [],
   "source": [
    "env = Sim(timeline, app)\n",
    "env.import_variables(\"xl_tester2.xlsx\")"
   ]
  },
  {
   "cell_type": "code",
   "execution_count": 6,
   "metadata": {},
   "outputs": [],
   "source": [
    "env.check_df(\"Global KPI\")"
   ]
  },
  {
   "cell_type": "code",
   "execution_count": 7,
   "metadata": {},
   "outputs": [],
   "source": [
    "env.timeline.run()"
   ]
  },
  {
   "cell_type": "code",
   "execution_count": 8,
   "metadata": {},
   "outputs": [],
   "source": [
    "def select_action(state):\n",
    "    \"\"\" To ensure the model explores new spaces we will sometimes choose actions randomly. If not random we choose the action which result in the highest expected reward. \n",
    "    Choosing a random action will decay exponientially throughout learning. \n",
    "    \"\"\"\n",
    "    EPS_START = 0.9\n",
    "    EPS_END = 0.05\n",
    "    EPS_DECAY = 1000\n",
    "\n",
    "    global steps_done\n",
    "    sample = np.random.rand(1)\n",
    "    eps_threshold = EPS_END + (EPS_START - EPS_END) * np.exp(-1. * steps_done / EPS_DECAY)\n",
    "    steps_done += 1\n",
    "    if sample > eps_threshold:\n",
    "        with torch.no_grad():\n",
    "            # t.max(1) will return the largest column value of each row.\n",
    "            # second column on max result is index of where max element was\n",
    "            # found, so we pick action with the larger expected reward.\n",
    "            return policy_net(state).max(1).indices.view(1, 1)\n",
    "    else:\n",
    "        return torch.tensor(env.sample(\"action\"), dtype=torch.float32).unsqueeze(0) # random action, unsqueeze such that one action has shape (1,1) i.e. env.step works since we index action[0]"
   ]
  },
  {
   "cell_type": "code",
   "execution_count": 9,
   "metadata": {},
   "outputs": [
    {
     "name": "stdout",
     "output_type": "stream",
     "text": [
      "(array([30.01825989]), array([ 7.38587743e+01, -1.88001921e+06, -8.20883583e+05, -1.12462637e+06]), array([30.]))\n"
     ]
    }
   ],
   "source": [
    "state = env.reset()\n",
    "print(state)"
   ]
  },
  {
   "cell_type": "code",
   "execution_count": 10,
   "metadata": {},
   "outputs": [],
   "source": [
    "n_states = sum([len(state[i]) for i in range(len(state))]) # the flattened state output will be the input layer to the network\n",
    "n_actions = 3 # (up, down, stay)"
   ]
  },
  {
   "cell_type": "code",
   "execution_count": 11,
   "metadata": {},
   "outputs": [
    {
     "data": {
      "text/plain": [
       "<All keys matched successfully>"
      ]
     },
     "execution_count": 11,
     "metadata": {},
     "output_type": "execute_result"
    }
   ],
   "source": [
    "policy_net = DQN(n_states, n_actions)\n",
    "target_net = DQN(n_states, n_actions)\n",
    "\n",
    "target_net.load_state_dict(policy_net.state_dict())"
   ]
  },
  {
   "cell_type": "code",
   "execution_count": 12,
   "metadata": {},
   "outputs": [],
   "source": [
    "import itertools\n",
    "state_flat = np.array(list(itertools.chain.from_iterable(state)))\n",
    "state_tensor = torch.tensor(state_flat, dtype=torch.float32).unsqueeze(0) # make torch tensor and add axis"
   ]
  },
  {
   "cell_type": "code",
   "execution_count": 18,
   "metadata": {},
   "outputs": [
    {
     "name": "stdout",
     "output_type": "stream",
     "text": [
      "tensor([[0.]]) torch.Size([1, 1])\n"
     ]
    }
   ],
   "source": [
    "steps_done = 0\n",
    "action = select_action(state_tensor) #Simulator input must be floats but DQN input should be tensor \n",
    "print(action, action.shape)"
   ]
  },
  {
   "cell_type": "code",
   "execution_count": 19,
   "metadata": {},
   "outputs": [
    {
     "name": "stdout",
     "output_type": "stream",
     "text": [
      "S23TT1004 has reached its setpoint 30.055849411649092 [C]\n",
      "[]\n",
      "tensor([-1]) False\n"
     ]
    }
   ],
   "source": [
    "observation, reward, terminated, truncated = env.step(action, step_change=0.15)\n",
    "reward = torch.tensor([reward])\n",
    "done = terminated or truncated\n",
    "print(reward, done)"
   ]
  },
  {
   "cell_type": "code",
   "execution_count": 20,
   "metadata": {},
   "outputs": [],
   "source": [
    "import random \n",
    "from collections import namedtuple, deque\n",
    "\n",
    "\n",
    "Transition = namedtuple('Transition',\n",
    "                        ('state', 'action', 'next_state', 'reward'))\n",
    "\n",
    "class ReplayMemory(object):\n",
    "#Class to store action state pairs\n",
    "\n",
    "    def __init__(self, capacity):\n",
    "        self.memory = deque([], maxlen=capacity)\n",
    "\n",
    "    def push(self, *args):\n",
    "        \"\"\"Save a transition\"\"\"\n",
    "        self.memory.append(Transition(*args))\n",
    "\n",
    "    def sample(self, batch_size):\n",
    "        return random.sample(self.memory, batch_size)\n",
    "\n",
    "    def __len__(self):\n",
    "        return len(self.memory)\n",
    "    \n",
    "\n",
    "memory = ReplayMemory(100)"
   ]
  },
  {
   "cell_type": "code",
   "execution_count": 26,
   "metadata": {},
   "outputs": [],
   "source": [
    "ns = np.array(list(itertools.chain.from_iterable(observation)))\n",
    "next_state = torch.tensor(ns, dtype=torch.float32).unsqueeze(0) # make torch tensor and add axis\n",
    "\n",
    "# Store the transition in memory\n",
    "memory.push(state, action, next_state, reward)\n",
    "\n",
    "# Move to the next state\n",
    "state = next_state"
   ]
  },
  {
   "cell_type": "code",
   "execution_count": 31,
   "metadata": {},
   "outputs": [
    {
     "data": {
      "text/plain": [
       "[Transition(state=(array([30.01825989]), array([ 7.38587743e+01, -1.88001921e+06, -8.20883583e+05, -1.12462637e+06]), array([30.])), action=tensor([[0.]]), next_state=tensor([[ 3.0056e+01,  7.3803e+01, -1.8800e+06, -8.2097e+05, -1.1244e+06,\n",
       "           3.0150e+01]]), reward=tensor([-1])),\n",
       " Transition(state=(array([30.01825989]), array([ 7.38587743e+01, -1.88001921e+06, -8.20883583e+05, -1.12462637e+06]), array([30.])), action=tensor([[0.]]), next_state=tensor([[ 3.0056e+01,  7.3803e+01, -1.8800e+06, -8.2097e+05, -1.1244e+06,\n",
       "           3.0150e+01]]), reward=tensor([-1]))]"
      ]
     },
     "execution_count": 31,
     "metadata": {},
     "output_type": "execute_result"
    }
   ],
   "source": [
    "memory.sample(len(memory)) #visualize memory"
   ]
  },
  {
   "cell_type": "code",
   "execution_count": 36,
   "metadata": {},
   "outputs": [],
   "source": [
    "LR = 1e-4 #Learing rate of optimizer\n",
    "optimizer = torch.optim.AdamW(policy_net.parameters(), lr=LR, amsgrad=True)\n",
    "\n",
    "def optimize_model():\n",
    "    if len(memory) < BATCH_SIZE:\n",
    "        print(len(memory), \"len memory\")\n",
    "        return\n",
    "    print(len(memory), 'len after')\n",
    "    transitions = memory.sample(BATCH_SIZE)\n",
    "    # Transpose the batch (see https://stackoverflow.com/a/19343/3343043 for\n",
    "    # detailed explanation). This converts batch-array of Transitions\n",
    "    # to Transition of batch-arrays.\n",
    "    batch = Transition(*zip(*transitions))\n",
    "    print(batch.state)\n",
    "\n",
    "    # Compute a mask of non-final states and concatenate the batch elements\n",
    "    # (a final state would've been the one after which simulation ended)\n",
    "    non_final_mask = torch.tensor(tuple(map(lambda s: s is not None,\n",
    "                                          batch.next_state)), dtype=torch.bool)\n",
    "    non_final_next_states = torch.cat([s for s in batch.next_state\n",
    "                                                if s is not None])\n",
    "\n",
    "\n",
    "    #NOTE state is tuple so we need to reshape to be able to concat\n",
    "    state_batch = torch.cat(batch.state) \n",
    "    action_batch = torch.cat(batch.action)\n",
    "    reward_batch = torch.cat(batch.reward)\n",
    "\n",
    "    # Compute Q(s_t, a) - the model computes Q(s_t), then we select the\n",
    "    # columns of actions taken. These are the actions which would've been taken\n",
    "    # for each batch state according to policy_net\n",
    "\n",
    "    print(policy_net(state_batch), action_batch)\n",
    "    state_action_values = policy_net(state_batch).gather(1, action_batch)\n",
    "\n",
    "    # Compute V(s_{t+1}) for all next states.\n",
    "    # Expected values of actions for non_final_next_states are computed based\n",
    "    # on the \"older\" target_net; selecting their best reward with max(1).values\n",
    "    # This is merged based on the mask, such that we'll have either the expected\n",
    "    # state value or 0 in case the state was final.\n",
    "    next_state_values = torch.zeros(BATCH_SIZE)\n",
    "    with torch.no_grad():\n",
    "        next_state_values[non_final_mask] = target_net(non_final_next_states).max(1).values\n",
    "    # Compute the expected Q values\n",
    "    expected_state_action_values = (next_state_values * GAMMA) + reward_batch\n",
    "\n",
    "    # Compute Huber loss\n",
    "    criterion = nn.SmoothL1Loss()\n",
    "    loss = criterion(state_action_values, expected_state_action_values.unsqueeze(1))\n",
    "\n",
    "    # Optimize the model\n",
    "    optimizer.zero_grad()\n",
    "    loss.backward()\n",
    "    # In-place gradient clipping\n",
    "    torch.nn.utils.clip_grad_value_(policy_net.parameters(), 100)\n",
    "    optimizer.step()"
   ]
  },
  {
   "cell_type": "code",
   "execution_count": 37,
   "metadata": {},
   "outputs": [
    {
     "name": "stdout",
     "output_type": "stream",
     "text": [
      "2 len after\n",
      "((array([30.01825989]), array([ 7.38587743e+01, -1.88001921e+06, -8.20883583e+05, -1.12462637e+06]), array([30.])), (array([30.01825989]), array([ 7.38587743e+01, -1.88001921e+06, -8.20883583e+05, -1.12462637e+06]), array([30.])))\n"
     ]
    },
    {
     "ename": "TypeError",
     "evalue": "expected Tensor as element 0 in argument 0, but got tuple",
     "output_type": "error",
     "traceback": [
      "\u001b[1;31m---------------------------------------------------------------------------\u001b[0m",
      "\u001b[1;31mTypeError\u001b[0m                                 Traceback (most recent call last)",
      "Cell \u001b[1;32mIn[37], line 7\u001b[0m\n\u001b[0;32m      3\u001b[0m TAU \u001b[38;5;241m=\u001b[39m \u001b[38;5;241m0.005\u001b[39m \u001b[38;5;66;03m# The target network should change slowly to improve stability - hence a soft update, with the TAU factor, of the target weights is used.  \u001b[39;00m\n\u001b[0;32m      6\u001b[0m \u001b[38;5;66;03m# Perform one step of the optimization (on the policy network)\u001b[39;00m\n\u001b[1;32m----> 7\u001b[0m \u001b[43moptimize_model\u001b[49m\u001b[43m(\u001b[49m\u001b[43m)\u001b[49m\n",
      "Cell \u001b[1;32mIn[36], line 22\u001b[0m, in \u001b[0;36moptimize_model\u001b[1;34m()\u001b[0m\n\u001b[0;32m     18\u001b[0m non_final_mask \u001b[38;5;241m=\u001b[39m torch\u001b[38;5;241m.\u001b[39mtensor(\u001b[38;5;28mtuple\u001b[39m(\u001b[38;5;28mmap\u001b[39m(\u001b[38;5;28;01mlambda\u001b[39;00m s: s \u001b[38;5;129;01mis\u001b[39;00m \u001b[38;5;129;01mnot\u001b[39;00m \u001b[38;5;28;01mNone\u001b[39;00m,\n\u001b[0;32m     19\u001b[0m                                       batch\u001b[38;5;241m.\u001b[39mnext_state)), dtype\u001b[38;5;241m=\u001b[39mtorch\u001b[38;5;241m.\u001b[39mbool)\n\u001b[0;32m     20\u001b[0m non_final_next_states \u001b[38;5;241m=\u001b[39m torch\u001b[38;5;241m.\u001b[39mcat([s \u001b[38;5;28;01mfor\u001b[39;00m s \u001b[38;5;129;01min\u001b[39;00m batch\u001b[38;5;241m.\u001b[39mnext_state\n\u001b[0;32m     21\u001b[0m                                             \u001b[38;5;28;01mif\u001b[39;00m s \u001b[38;5;129;01mis\u001b[39;00m \u001b[38;5;129;01mnot\u001b[39;00m \u001b[38;5;28;01mNone\u001b[39;00m])\n\u001b[1;32m---> 22\u001b[0m state_batch \u001b[38;5;241m=\u001b[39m \u001b[43mtorch\u001b[49m\u001b[38;5;241;43m.\u001b[39;49m\u001b[43mcat\u001b[49m\u001b[43m(\u001b[49m\u001b[43mbatch\u001b[49m\u001b[38;5;241;43m.\u001b[39;49m\u001b[43mstate\u001b[49m\u001b[43m)\u001b[49m\n\u001b[0;32m     23\u001b[0m action_batch \u001b[38;5;241m=\u001b[39m torch\u001b[38;5;241m.\u001b[39mcat(batch\u001b[38;5;241m.\u001b[39maction)\n\u001b[0;32m     24\u001b[0m reward_batch \u001b[38;5;241m=\u001b[39m torch\u001b[38;5;241m.\u001b[39mcat(batch\u001b[38;5;241m.\u001b[39mreward)\n",
      "\u001b[1;31mTypeError\u001b[0m: expected Tensor as element 0 in argument 0, but got tuple"
     ]
    }
   ],
   "source": [
    "BATCH_SIZE = 2 # number of transitions sampled from the replay buffer\n",
    "GAMMA = 0.99 # The factor in the discounted cumulative reward, we care about the rewards in the future but with a discount factor gamma. \n",
    "TAU = 0.005 # The target network should change slowly to improve stability - hence a soft update, with the TAU factor, of the target weights is used.  \n",
    "\n",
    "\n",
    "# Perform one step of the optimization (on the policy network)\n",
    "optimize_model()"
   ]
  },
  {
   "cell_type": "code",
   "execution_count": 29,
   "metadata": {},
   "outputs": [
    {
     "data": {
      "text/plain": [
       "0.9999599153712548"
      ]
     },
     "execution_count": 29,
     "metadata": {},
     "output_type": "execute_result"
    }
   ],
   "source": [
    "env.timeline.achieved_speed"
   ]
  },
  {
   "cell_type": "code",
   "execution_count": 28,
   "metadata": {},
   "outputs": [
    {
     "ename": "RuntimeError",
     "evalue": "gather(): Expected dtype int64 for index",
     "output_type": "error",
     "traceback": [
      "\u001b[1;31m---------------------------------------------------------------------------\u001b[0m",
      "\u001b[1;31mRuntimeError\u001b[0m                              Traceback (most recent call last)",
      "Cell \u001b[1;32mIn[28], line 1\u001b[0m\n\u001b[1;32m----> 1\u001b[0m \u001b[43mtorch\u001b[49m\u001b[38;5;241;43m.\u001b[39;49m\u001b[43mtensor\u001b[49m\u001b[43m(\u001b[49m\u001b[43mnp\u001b[49m\u001b[38;5;241;43m.\u001b[39;49m\u001b[43marray\u001b[49m\u001b[43m(\u001b[49m\u001b[43m[\u001b[49m\u001b[43m[\u001b[49m\u001b[38;5;241;43m1\u001b[39;49m\u001b[43m,\u001b[49m\u001b[38;5;241;43m1\u001b[39;49m\u001b[43m,\u001b[49m\u001b[38;5;241;43m1\u001b[39;49m\u001b[43m]\u001b[49m\u001b[43m]\u001b[49m\u001b[43m)\u001b[49m\u001b[43m)\u001b[49m\u001b[38;5;241;43m.\u001b[39;49m\u001b[43mgather\u001b[49m\u001b[43m(\u001b[49m\u001b[38;5;241;43m1\u001b[39;49m\u001b[43m,\u001b[49m\u001b[43m \u001b[49m\u001b[43mtorch\u001b[49m\u001b[38;5;241;43m.\u001b[39;49m\u001b[43mtensor\u001b[49m\u001b[43m(\u001b[49m\u001b[43mnp\u001b[49m\u001b[38;5;241;43m.\u001b[39;49m\u001b[43marray\u001b[49m\u001b[43m(\u001b[49m\u001b[43m[\u001b[49m\u001b[38;5;241;43m1\u001b[39;49m\u001b[43m,\u001b[49m\u001b[38;5;241;43m1\u001b[39;49m\u001b[43m]\u001b[49m\u001b[43m)\u001b[49m\u001b[43m)\u001b[49m\u001b[43m)\u001b[49m\n",
      "\u001b[1;31mRuntimeError\u001b[0m: gather(): Expected dtype int64 for index"
     ]
    }
   ],
   "source": [
    "torch.tensor(np.array([[1,1,1]])).gather(1, torch.tensor(np.array([1,1])))"
   ]
  },
  {
   "cell_type": "code",
   "execution_count": 5,
   "metadata": {},
   "outputs": [],
   "source": [
    "#env.timeline.pause()\n",
    "timeline.deactivate() #Proper shutdown, run this if when done working and if not exiting from the software"
   ]
  }
 ],
 "metadata": {
  "kernelspec": {
   "display_name": "Python 3",
   "language": "python",
   "name": "python3"
  },
  "language_info": {
   "codemirror_mode": {
    "name": "ipython",
    "version": 3
   },
   "file_extension": ".py",
   "mimetype": "text/x-python",
   "name": "python",
   "nbconvert_exporter": "python",
   "pygments_lexer": "ipython3",
   "version": "3.11.9"
  }
 },
 "nbformat": 4,
 "nbformat_minor": 2
}
