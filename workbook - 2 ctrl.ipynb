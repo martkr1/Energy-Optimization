{
 "cells": [
  {
   "cell_type": "code",
   "execution_count": 1,
   "metadata": {},
   "outputs": [],
   "source": [
    "#Kspice\n",
    "import sys\n",
    "sys.path.append(r\"C:\\Program Files (x86)\\Kongsberg\\K-Spice\\bin64\") #add to path to allow kspice import\n",
    "import kspice # if import error, check correct python version (should be 3.11)\n",
    "\n",
    "#Basic functionality\n",
    "import pandas as pd\n",
    "import numpy as np\n",
    "import matplotlib.pyplot as plt\n",
    "\n",
    "#ML\n",
    "import torch \n",
    "\n",
    "from enviroment import Sim\n",
    "from DQN import DQN"
   ]
  },
  {
   "cell_type": "code",
   "execution_count": 2,
   "metadata": {},
   "outputs": [],
   "source": [
    "project_path = r\"C:\\Appl\\K-Spice-Projects\\Kristin_v23\" #Specify path to downloaded project.\n",
    "_ = kspice.Simulator(project_path) #Create instance of project"
   ]
  },
  {
   "cell_type": "code",
   "execution_count": 3,
   "metadata": {},
   "outputs": [],
   "source": [
    "#This cell should contain the disabling of the power and wells modules - functionality not found in python API\n",
    "\n",
    "# Only disable the modules, do not activate the timeline from the software as this is done in the next cell"
   ]
  },
  {
   "cell_type": "code",
   "execution_count": 4,
   "metadata": {},
   "outputs": [],
   "source": [
    "timeline = _.activate_timeline(\"Engineering\") # Select the avaliable engineering timeline\n",
    "app = \"Topside\" # We only make changes to the topside module NOTE: From software we can #deactivate Wells and Power in ESS model, can this be done from python?\n",
    "timeline.initialize() #"
   ]
  },
  {
   "cell_type": "code",
   "execution_count": 5,
   "metadata": {},
   "outputs": [],
   "source": [
    "timeline.load_model(\"KristinMaria_master_disabledPowerWells\") #Load model\n",
    "timeline.load_parameters(\"KristinMaria_master_disabledPowerWells\") # load fixed parameters\n",
    "timeline.load_initial_condition(\"KristinMaria_master_disabledPowerWells\") # Load initial conditions"
   ]
  },
  {
   "cell_type": "code",
   "execution_count": null,
   "metadata": {},
   "outputs": [],
   "source": [
    "env = Sim(timeline, app)\n",
    "env.import_variables(\"two_controllers.xlsx\")"
   ]
  },
  {
   "cell_type": "code",
   "execution_count": 40,
   "metadata": {},
   "outputs": [],
   "source": [
    "env.check_df(\"Input\")"
   ]
  },
  {
   "cell_type": "code",
   "execution_count": 41,
   "metadata": {},
   "outputs": [
    {
     "ename": "RuntimeError",
     "evalue": "Run failed",
     "output_type": "error",
     "traceback": [
      "\u001b[1;31m---------------------------------------------------------------------------\u001b[0m",
      "\u001b[1;31mRuntimeError\u001b[0m                              Traceback (most recent call last)",
      "Cell \u001b[1;32mIn[41], line 1\u001b[0m\n\u001b[1;32m----> 1\u001b[0m \u001b[43menv\u001b[49m\u001b[38;5;241;43m.\u001b[39;49m\u001b[43mtimeline\u001b[49m\u001b[38;5;241;43m.\u001b[39;49m\u001b[43mrun\u001b[49m\u001b[43m(\u001b[49m\u001b[43m)\u001b[49m\n",
      "\u001b[1;31mRuntimeError\u001b[0m: Run failed"
     ]
    }
   ],
   "source": [
    "env.timeline.run()"
   ]
  },
  {
   "cell_type": "code",
   "execution_count": 42,
   "metadata": {},
   "outputs": [],
   "source": [
    "def select_action(state):\n",
    "    \"\"\" To ensure the model explores new spaces we will sometimes choose actions randomly. If not random we choose the action which result in the highest expected reward. \n",
    "    Choosing a random action will decay exponientially throughout learning. \n",
    "    \"\"\"\n",
    "    EPS_START = 0.9\n",
    "    EPS_END = 0.05\n",
    "    EPS_DECAY = 1000\n",
    "\n",
    "    global steps_done\n",
    "    sample = np.random.rand(1)\n",
    "    eps_threshold = EPS_END + (EPS_START - EPS_END) * np.exp(-1. * steps_done / EPS_DECAY)\n",
    "    steps_done += 1\n",
    "    if sample > eps_threshold:\n",
    "        with torch.no_grad():\n",
    "            # t.max(1) will return the largest column value of each row.\n",
    "            # second column on max result is index of where max element was\n",
    "            # found, so we pick action with the larger expected reward.\n",
    "            pol_out = policy_net(state).max(1).indices\n",
    "            return torch.tensor(env.action_pairs[pol_out.item()])\n",
    "    else:\n",
    "        return torch.tensor(env.sample(\"action\"), dtype=torch.float32) # random action, unsqueeze such that one action has shape (1,1) i.e. env.step works since we index action[0]"
   ]
  },
  {
   "cell_type": "code",
   "execution_count": 43,
   "metadata": {},
   "outputs": [
    {
     "name": "stdout",
     "output_type": "stream",
     "text": [
      "(array([12.99645603, 44.98098195]), array([0.00418826]), array([13., 45.]))\n"
     ]
    }
   ],
   "source": [
    "state = env.reset()\n",
    "print(state)"
   ]
  },
  {
   "cell_type": "code",
   "execution_count": 44,
   "metadata": {},
   "outputs": [],
   "source": [
    "n_states = sum([len(state[i]) for i in range(len(state))]) # the flattened state output will be the input layer to the network\n",
    "n_actions = 9 # (up, down, stay) x (up, down, stay)"
   ]
  },
  {
   "cell_type": "code",
   "execution_count": 45,
   "metadata": {},
   "outputs": [
    {
     "data": {
      "text/plain": [
       "<All keys matched successfully>"
      ]
     },
     "execution_count": 45,
     "metadata": {},
     "output_type": "execute_result"
    }
   ],
   "source": [
    "policy_net = DQN(n_states, n_actions)\n",
    "target_net = DQN(n_states, n_actions) # To increase stability we have an additional target network which \"soft updates\" the weigths to the policy net.\n",
    "target_net.load_state_dict(policy_net.state_dict())"
   ]
  },
  {
   "cell_type": "code",
   "execution_count": 46,
   "metadata": {},
   "outputs": [],
   "source": [
    "import itertools\n",
    "state_flat = np.array(list(itertools.chain.from_iterable(state)))\n",
    "state_tensor = torch.tensor(state_flat, dtype=torch.float32).unsqueeze(0) # make torch tensor and add axis"
   ]
  },
  {
   "cell_type": "code",
   "execution_count": 47,
   "metadata": {},
   "outputs": [
    {
     "name": "stdout",
     "output_type": "stream",
     "text": [
      "tensor([1., 0.]) 3\n"
     ]
    }
   ],
   "source": [
    "steps_done = 0\n",
    "action = select_action(state_tensor) #Simulator input must be floats but DQN input should be tensor \n",
    "print(action, env.action_pairs.index(tuple(float(i) for i in action)))"
   ]
  },
  {
   "cell_type": "code",
   "execution_count": 48,
   "metadata": {},
   "outputs": [
    {
     "name": "stdout",
     "output_type": "stream",
     "text": [
      "S23FIT1014 has reached its setpoint 12.901296217880896 [m3/h], prog.list: [1] \n",
      "\n",
      "S23LT1006 has reached its setpoint 45.05154880515641 [%], prog.list: [] \n",
      "\n",
      "tensor([1]) False\n"
     ]
    }
   ],
   "source": [
    "observation, reward, terminated, truncated = env.step(action, step_change=0.15)\n",
    "reward = torch.tensor([reward])\n",
    "done = terminated or truncated\n",
    "print(reward, done)"
   ]
  },
  {
   "cell_type": "code",
   "execution_count": 49,
   "metadata": {},
   "outputs": [],
   "source": [
    "import random \n",
    "from collections import namedtuple, deque\n",
    "\n",
    "\n",
    "Transition = namedtuple('Transition',\n",
    "                        ('state', 'action', 'next_state', 'reward'))\n",
    "\n",
    "class ReplayMemory(object):\n",
    "#Class to store action state pairs\n",
    "\n",
    "    def __init__(self, capacity):\n",
    "        self.memory = deque([], maxlen=capacity)\n",
    "\n",
    "    def push(self, *args):\n",
    "        \"\"\"Save a transition\"\"\"\n",
    "        self.memory.append(Transition(*args))\n",
    "\n",
    "    def sample(self, batch_size):\n",
    "        return random.sample(self.memory, batch_size)\n",
    "\n",
    "    def __len__(self):\n",
    "        return len(self.memory)\n",
    "    \n",
    "\n",
    "memory = ReplayMemory(100)"
   ]
  },
  {
   "cell_type": "code",
   "execution_count": 50,
   "metadata": {},
   "outputs": [],
   "source": [
    "ns = np.array(list(itertools.chain.from_iterable(observation)))\n",
    "next_state = torch.tensor(ns, dtype=torch.float32).unsqueeze(0) # make torch tensor and add axis\n",
    "\n",
    "action_idx = env.action_pairs.index(tuple(float(i) for i in action))\n",
    "\n",
    "# Store the transition in memory\n",
    "memory.push(state_tensor, torch.tensor(action_idx, dtype=torch.int64).view(1,1), next_state, reward)\n",
    "\n",
    "# Move to the next state\n",
    "state = next_state"
   ]
  },
  {
   "cell_type": "code",
   "execution_count": 51,
   "metadata": {},
   "outputs": [
    {
     "data": {
      "text/plain": [
       "[Transition(state=tensor([[1.2996e+01, 4.4981e+01, 4.1883e-03, 1.3000e+01, 4.5000e+01]]), action=tensor([[3]]), next_state=tensor([[1.2846e+01, 4.5052e+01, 4.1793e-03, 1.2850e+01, 4.5150e+01]]), reward=tensor([1]))]"
      ]
     },
     "execution_count": 51,
     "metadata": {},
     "output_type": "execute_result"
    }
   ],
   "source": [
    "memory.sample(len(memory)) #visualize memory"
   ]
  },
  {
   "cell_type": "code",
   "execution_count": 52,
   "metadata": {},
   "outputs": [],
   "source": [
    "import torch.nn as nn\n",
    "\n",
    "\n",
    "LR = 1e-4 #Learing rate of optimizer\n",
    "optimizer = torch.optim.AdamW(policy_net.parameters(), lr=LR, amsgrad=True)\n",
    "\n",
    "def optimize_model():\n",
    "    if len(memory) < BATCH_SIZE:\n",
    "        return\n",
    "    transitions = memory.sample(BATCH_SIZE)\n",
    "    # Transpose the batch (see https://stackoverflow.com/a/19343/3343043 for\n",
    "    # detailed explanation). This converts batch-array of Transitions\n",
    "    # to Transition of batch-arrays.\n",
    "    batch = Transition(*zip(*transitions))\n",
    "\n",
    "    # Compute a mask of non-final states and concatenate the batch elements\n",
    "    # (a final state would've been the one after which simulation ended)\n",
    "    non_final_mask = torch.tensor(tuple(map(lambda s: s is not None,\n",
    "                                          batch.next_state)), dtype=torch.bool)\n",
    "    non_final_next_states = torch.cat([s for s in batch.next_state\n",
    "                                                if s is not None])\n",
    "\n",
    "\n",
    "    #NOTE state is tuple so we need to reshape to be able to concat\n",
    "    state_batch = torch.cat(batch.state) \n",
    "    action_batch = torch.cat(batch.action)\n",
    "    reward_batch = torch.cat(batch.reward)\n",
    "\n",
    "    # Compute Q(s_t, a) - the model computes Q(s_t), then we select the\n",
    "    # columns of actions taken. These are the actions which would've been taken\n",
    "    # for each batch state according to policy_net\n",
    "    state_action_values = policy_net(state_batch).gather(1, action_batch) #gather policy output with action indices along axis 1 \n",
    "\n",
    "    # Compute V(s_{t+1}) for all next states.\n",
    "    # Expected values of actions for non_final_next_states are computed based\n",
    "    # on the \"older\" target_net; selecting their best reward with max(1).values\n",
    "    # This is merged based on the mask, such that we'll have either the expected\n",
    "    # state value or 0 in case the state was final.\n",
    "    next_state_values = torch.zeros(BATCH_SIZE)\n",
    "    with torch.no_grad():\n",
    "        next_state_values[non_final_mask] = target_net(non_final_next_states).max(1).values\n",
    "    # Compute the expected Q values\n",
    "    expected_state_action_values = (next_state_values * GAMMA) + reward_batch\n",
    "\n",
    "    # Compute Huber loss\n",
    "    criterion = nn.SmoothL1Loss()\n",
    "    loss = criterion(state_action_values, expected_state_action_values.unsqueeze(1))\n",
    "\n",
    "    # Optimize the model\n",
    "    optimizer.zero_grad()\n",
    "    loss.backward()\n",
    "    # In-place gradient clipping\n",
    "    torch.nn.utils.clip_grad_value_(policy_net.parameters(), 100) # we dont want too big gradients\n",
    "    optimizer.step()\n",
    "\n",
    "    return loss"
   ]
  },
  {
   "cell_type": "code",
   "execution_count": 53,
   "metadata": {},
   "outputs": [],
   "source": [
    "BATCH_SIZE = 2 # number of transitions sampled from the replay buffer\n",
    "GAMMA = 0.99 # The factor in the discounted cumulative reward, we care about the rewards in the future but with a discount factor gamma. \n",
    "TAU = 0.005 # The target network should change slowly to improve stability - hence a soft update, with the TAU factor, of the target weights is used.  \n",
    "\n",
    "\n",
    "# Perform one step of the optimization (on the policy network)\n",
    "optimize_model()"
   ]
  },
  {
   "cell_type": "code",
   "execution_count": null,
   "metadata": {},
   "outputs": [],
   "source": [
    "# set up matplotlib\n",
    "import matplotlib\n",
    "import matplotlib.pyplot as plt\n",
    "is_ipython = 'inline' in matplotlib.get_backend()\n",
    "if is_ipython:\n",
    "    from IPython import display\n",
    "\n",
    "plt.ion()\n",
    "\n",
    "\n",
    "rewards = []\n",
    "consumptions = []\n",
    "flows = []\n",
    "levels = []\n",
    "losses = []\n",
    "\n",
    "\n",
    "def plot_results():\n",
    "    fig, axs = plt.subplots(5, sharex=True, figsize = (19, 8))\n",
    "\n",
    "    axs[0].plot(consumptions, 'o-', color = 'C0', linewidth = 0.5, label = \"Power Consumption\")\n",
    "    axs[0].legend(loc=\"upper right\")\n",
    "\n",
    "\n",
    "    axs[1].plot(rewards, marker = 'o', color = 'C1', linewidth = 0, label = \"Reward\")\n",
    "    axs[1].legend(loc=\"upper right\")\n",
    "\n",
    "    axs[2].plot(flows, 'o-', color = 'C2', linewidth = 0.5, label = \"Flow\")\n",
    "    axs[2].legend(loc=\"upper right\")\n",
    "\n",
    "    axs[3].plot(levels, 'o-', color = 'C3', linewidth = 0.5, label = \"Level\")\n",
    "    axs[3].legend(loc=\"upper right\")\n",
    "\n",
    "    axs[4].plot(losses, 'o-', color = 'C4', linewidth = 0.5, label = \"Loss\")\n",
    "    axs[4].legend(loc=\"upper right\")\n",
    "\n",
    "\n",
    "    plt.pause(0.001)  # pause a bit so that plots are updated\n",
    "    display.display()\n",
    "    display.clear_output(wait=True)"
   ]
  },
  {
   "cell_type": "code",
   "execution_count": 55,
   "metadata": {},
   "outputs": [
    {
     "data": {
      "text/plain": [
       "100.0"
      ]
     },
     "execution_count": 55,
     "metadata": {},
     "output_type": "execute_result"
    }
   ],
   "source": [
    "env.timeline.set_speed(100)"
   ]
  },
  {
   "cell_type": "code",
   "execution_count": 56,
   "metadata": {},
   "outputs": [
    {
     "name": "stdout",
     "output_type": "stream",
     "text": [
      "S23LT1006 has reached its setpoint 42.072265799312504 [%], prog.list: [0] \n",
      "\n"
     ]
    },
    {
     "ename": "KeyboardInterrupt",
     "evalue": "",
     "output_type": "error",
     "traceback": [
      "\u001b[1;31m---------------------------------------------------------------------------\u001b[0m",
      "\u001b[1;31mKeyboardInterrupt\u001b[0m                         Traceback (most recent call last)",
      "Cell \u001b[1;32mIn[56], line 10\u001b[0m\n\u001b[0;32m      8\u001b[0m \u001b[38;5;28;01mfor\u001b[39;00m t \u001b[38;5;129;01min\u001b[39;00m count():\n\u001b[0;32m      9\u001b[0m     action \u001b[38;5;241m=\u001b[39m select_action(state_tensor)\n\u001b[1;32m---> 10\u001b[0m     observation, reward, terminated, truncated \u001b[38;5;241m=\u001b[39m \u001b[43menv\u001b[49m\u001b[38;5;241;43m.\u001b[39;49m\u001b[43mstep\u001b[49m\u001b[43m(\u001b[49m\u001b[43maction\u001b[49m\u001b[43m,\u001b[49m\u001b[43m \u001b[49m\u001b[43mstep_change\u001b[49m\u001b[38;5;241;43m=\u001b[39;49m\u001b[38;5;241;43m1\u001b[39;49m\u001b[43m)\u001b[49m\n\u001b[0;32m     11\u001b[0m     reward \u001b[38;5;241m=\u001b[39m torch\u001b[38;5;241m.\u001b[39mtensor([reward])\n\u001b[0;32m     12\u001b[0m     done \u001b[38;5;241m=\u001b[39m terminated \u001b[38;5;129;01mor\u001b[39;00m truncated\n",
      "File \u001b[1;32mc:\\Users\\martkr\\OneDrive - Equinor\\General - IOC - ML\\Div\\Cases\\Energy Optimalization\\Liasis\\enviroment.py:130\u001b[0m, in \u001b[0;36mSim.step\u001b[1;34m(self, action, terminated, truncated, step_change)\u001b[0m\n\u001b[0;32m    128\u001b[0m \u001b[38;5;28mself\u001b[39m\u001b[38;5;241m.\u001b[39mprogress_list \u001b[38;5;241m=\u001b[39m [i \u001b[38;5;28;01mfor\u001b[39;00m i \u001b[38;5;129;01min\u001b[39;00m \u001b[38;5;28mrange\u001b[39m(\u001b[38;5;28mlen\u001b[39m(\u001b[38;5;28mself\u001b[39m\u001b[38;5;241m.\u001b[39mdf[\u001b[38;5;124m\"\u001b[39m\u001b[38;5;124mInput\u001b[39m\u001b[38;5;124m\"\u001b[39m][\u001b[38;5;124m\"\u001b[39m\u001b[38;5;124mBlock Name\u001b[39m\u001b[38;5;124m\"\u001b[39m]))]\n\u001b[0;32m    129\u001b[0m \u001b[38;5;28;01mtry\u001b[39;00m:\n\u001b[1;32m--> 130\u001b[0m     \u001b[43mpoll\u001b[49m\u001b[43m(\u001b[49m\u001b[38;5;28;43;01mlambda\u001b[39;49;00m\u001b[43m:\u001b[49m\u001b[43m \u001b[49m\u001b[38;5;28;43mself\u001b[39;49m\u001b[38;5;241;43m.\u001b[39;49m\u001b[43mget_values_polling\u001b[49m\u001b[43m(\u001b[49m\u001b[38;5;28;43mself\u001b[39;49m\u001b[38;5;241;43m.\u001b[39;49m\u001b[43mtimeline\u001b[49m\u001b[43m,\u001b[49m\u001b[43m \u001b[49m\u001b[38;5;28;43mself\u001b[39;49m\u001b[38;5;241;43m.\u001b[39;49m\u001b[43mapp\u001b[49m\u001b[43m)\u001b[49m\u001b[43m \u001b[49m\u001b[38;5;241;43m==\u001b[39;49m\u001b[43m \u001b[49m\u001b[38;5;241;43m0.0\u001b[39;49m\u001b[43m,\u001b[49m\u001b[43m \u001b[49m\u001b[43mtimeout\u001b[49m\u001b[38;5;241;43m=\u001b[39;49m\u001b[38;5;241;43m300\u001b[39;49m\u001b[43m,\u001b[49m\u001b[43m \u001b[49m\u001b[43mstep\u001b[49m\u001b[38;5;241;43m=\u001b[39;49m\u001b[38;5;241;43m1\u001b[39;49m\u001b[43m)\u001b[49m \u001b[38;5;66;03m# calls func each second as timeline.achieved_speed returns > 0 and continous for max 60 seconds. i.e. this can be stopped in SimExplorer\u001b[39;00m\n\u001b[0;32m    131\u001b[0m \u001b[38;5;28;01mexcept\u001b[39;00m TimeoutException \u001b[38;5;28;01mas\u001b[39;00m tee:\n\u001b[0;32m    132\u001b[0m     \u001b[38;5;28mprint\u001b[39m(\u001b[38;5;124m\"\u001b[39m\u001b[38;5;124mTimeout reached\u001b[39m\u001b[38;5;124m\"\u001b[39m)\n",
      "File \u001b[1;32m~\\AppData\\Roaming\\Python\\Python311\\site-packages\\polling.py:122\u001b[0m, in \u001b[0;36mpoll\u001b[1;34m(target, step, args, kwargs, timeout, max_tries, check_success, step_function, ignore_exceptions, poll_forever, collect_values, *a, **k)\u001b[0m\n\u001b[0;32m    119\u001b[0m \u001b[38;5;28;01mif\u001b[39;00m max_time \u001b[38;5;129;01mis\u001b[39;00m \u001b[38;5;129;01mnot\u001b[39;00m \u001b[38;5;28;01mNone\u001b[39;00m \u001b[38;5;129;01mand\u001b[39;00m time\u001b[38;5;241m.\u001b[39mtime() \u001b[38;5;241m>\u001b[39m\u001b[38;5;241m=\u001b[39m max_time:\n\u001b[0;32m    120\u001b[0m     \u001b[38;5;28;01mraise\u001b[39;00m TimeoutException(values, last_item)\n\u001b[1;32m--> 122\u001b[0m time\u001b[38;5;241m.\u001b[39msleep(step)\n\u001b[0;32m    123\u001b[0m step \u001b[38;5;241m=\u001b[39m step_function(step)\n",
      "\u001b[1;31mKeyboardInterrupt\u001b[0m: "
     ]
    }
   ],
   "source": [
    "from itertools import count # we just want an iterable and break the episode by truncated or terminated\n",
    "\n",
    "for i_episode in range(1):\n",
    "    # Initialize the environment and get its state\n",
    "    state = env.reset()\n",
    "    state_flat = np.array(list(itertools.chain.from_iterable(state)))\n",
    "    state_tensor = torch.tensor(state_flat, dtype=torch.float32).unsqueeze(0) # make torch tensor and add axis\n",
    "    for t in count():\n",
    "        action = select_action(state_tensor)\n",
    "        observation, reward, terminated, truncated = env.step(action, step_change=1)\n",
    "        reward = torch.tensor([reward])\n",
    "        done = terminated or truncated\n",
    "\n",
    "        if terminated:\n",
    "            next_state = None\n",
    "        else:\n",
    "            obs_flat = np.array(list(itertools.chain.from_iterable(observation)))\n",
    "            next_state = torch.tensor(obs_flat, dtype=torch.float32).unsqueeze(0)\n",
    "\n",
    "\n",
    "\n",
    "        action_idx = env.action_pairs.index(tuple(float(i) for i in action))\n",
    "\n",
    "        # Store the transition in memory\n",
    "        memory.push(state_tensor, torch.tensor(action_idx, dtype=torch.int64).view(1,1), next_state, reward)\n",
    "\n",
    "        # Move to the next state\n",
    "        state = next_state\n",
    "\n",
    "        # Perform one step of the optimization (on the policy network)\n",
    "        loss = optimize_model()\n",
    "\n",
    "        # Soft update of the target network's weights\n",
    "        # θ′ ← τ θ + (1 −τ )θ′\n",
    "        target_net_state_dict = target_net.state_dict()\n",
    "        policy_net_state_dict = policy_net.state_dict()\n",
    "        for key in policy_net_state_dict:\n",
    "            target_net_state_dict[key] = policy_net_state_dict[key]*TAU + target_net_state_dict[key]*(1-TAU)\n",
    "        target_net.load_state_dict(target_net_state_dict)\n",
    "\n",
    "\n",
    "        rewards.append(reward[0])\n",
    "\n",
    "        #NOTE this indexing is scary, changes when adding more ctrlers \n",
    "        consumptions.append(state[0][2])\n",
    "        flows.append(state[0][0])\n",
    "        levels.append(state[0][1])\n",
    "        losses.append(loss.detach())\n",
    "\n",
    "        plot_results()\n",
    "\n",
    "\n",
    "        if done: \n",
    "            break "
   ]
  }
 ],
 "metadata": {
  "kernelspec": {
   "display_name": "Python 3",
   "language": "python",
   "name": "python3"
  },
  "language_info": {
   "codemirror_mode": {
    "name": "ipython",
    "version": 3
   },
   "file_extension": ".py",
   "mimetype": "text/x-python",
   "name": "python",
   "nbconvert_exporter": "python",
   "pygments_lexer": "ipython3",
   "version": "3.11.9"
  }
 },
 "nbformat": 4,
 "nbformat_minor": 2
}
